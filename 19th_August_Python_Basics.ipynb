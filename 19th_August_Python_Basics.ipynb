{
  "nbformat": 4,
  "nbformat_minor": 0,
  "metadata": {
    "colab": {
      "provenance": []
    },
    "kernelspec": {
      "name": "python3",
      "display_name": "Python 3"
    },
    "language_info": {
      "name": "python"
    }
  },
  "cells": [
    {
      "cell_type": "code",
      "source": [
        "# 1. Declare two variables, `x` and `y`, and assign them integer values.\n",
        "# Swap the values of these variables without using any temporary\n",
        "# variable.\n",
        "\n",
        "x = 10\n",
        "y = 20\n",
        "\n",
        "x = x + y\n",
        "y = x - y\n",
        "x = x - y\n",
        "\n",
        "print(x)\n",
        "print(y)"
      ],
      "metadata": {
        "colab": {
          "base_uri": "https://localhost:8080/"
        },
        "id": "9oHeE2IY-kmd",
        "outputId": "be35d918-fdc3-4e06-8558-e9a413e83f7a"
      },
      "execution_count": null,
      "outputs": [
        {
          "output_type": "stream",
          "name": "stdout",
          "text": [
            "20\n",
            "10\n"
          ]
        }
      ]
    },
    {
      "cell_type": "code",
      "execution_count": null,
      "metadata": {
        "colab": {
          "base_uri": "https://localhost:8080/"
        },
        "id": "JHlOs6TQ9xFo",
        "outputId": "f6a07dd0-60d3-45ed-b9f4-cd2c63f1f121"
      },
      "outputs": [
        {
          "output_type": "stream",
          "name": "stdout",
          "text": [
            "Enter the Length : 10\n",
            "Enter the Width : 20\n",
            "Area of Rectangle is : 200\n"
          ]
        }
      ],
      "source": [
        "# 2. Create a program that calculates the area of a rectangle. Take the\n",
        "# length and width as inputs from the user and store them in variables.\n",
        "# Calculate and display the area.\n",
        "\n",
        "length = int(input('Enter the Length : '))\n",
        "width = int(input('Enter the Width : '))\n",
        "\n",
        "areaOfRectangle = length * width\n",
        "\n",
        "print('Area of Rectangle is :',areaOfRectangle)"
      ]
    },
    {
      "cell_type": "code",
      "source": [
        "# 3. Write a Python program that converts temperature from Celsius to\n",
        "# Fahrenheit. Take the temperature in Celsius as input, store it in a\n",
        "# variable, convert it to Fahrenheit, and display the result.\n",
        "\n",
        "celsius = float(input('Enter the temperature in degree Celsius :'))\n",
        "\n",
        "fahrenheit = (celsius * 9/5) + 32\n",
        "\n",
        "print('%.2f celsius is %.2f fahrenheit' % (celsius,fahrenheit))"
      ],
      "metadata": {
        "colab": {
          "base_uri": "https://localhost:8080/"
        },
        "id": "_Tl8PXFu__Ot",
        "outputId": "c5c215ab-91c9-487e-a6d0-2521f2788bf8"
      },
      "execution_count": null,
      "outputs": [
        {
          "output_type": "stream",
          "name": "stdout",
          "text": [
            "Enter the temperature in degree Celsius :47\n",
            "47.00 celsius is 116.60 fahrenheit\n"
          ]
        }
      ]
    },
    {
      "cell_type": "code",
      "source": [
        "                # TOPIC: String Based Questions\n",
        "\n",
        "# 1. Write a Python program that takes a string as input and prints the\n",
        "# length of the string.\n",
        "\n",
        "string1 = input('Enter the string ')\n",
        "\n",
        "print('Length of a given string is ', len(string1))"
      ],
      "metadata": {
        "colab": {
          "base_uri": "https://localhost:8080/"
        },
        "id": "dJZbCVTyCKe-",
        "outputId": "64b2f59e-d572-4a05-8b57-590dc45f87d8"
      },
      "execution_count": null,
      "outputs": [
        {
          "output_type": "stream",
          "name": "stdout",
          "text": [
            "Enter the string Shriya\n",
            "Length of a given string is  6\n"
          ]
        }
      ]
    },
    {
      "cell_type": "code",
      "source": [
        "# Create a program that takes a sentence from the user and counts the\n",
        "# number of vowels (a, e, i, o, u) in the string.\n",
        "\n",
        "userSentence = str(input('Enter the sentence '))\n",
        "\n",
        "acount = userSentence.lower().count('a')\n",
        "\n",
        "ecount = userSentence.lower().count('e')\n",
        "\n",
        "icount = userSentence.lower().count('i')\n",
        "\n",
        "ocount = userSentence.lower().count('o')\n",
        "\n",
        "ucount = userSentence.lower().count('u')\n",
        "\n",
        "print('Count of a',acount)\n",
        "print('Count of e',ecount)\n",
        "print('Count of i',icount)\n",
        "print('Count of o',ocount)\n",
        "print('Count of u',ucount)\n",
        "\n"
      ],
      "metadata": {
        "id": "hUoDKXgxDULm",
        "colab": {
          "base_uri": "https://localhost:8080/"
        },
        "outputId": "f2f5f8e0-290c-4046-8535-56d8515c25cd"
      },
      "execution_count": 6,
      "outputs": [
        {
          "output_type": "stream",
          "name": "stdout",
          "text": [
            "Enter the sentence i am a computer engineer\n",
            "Count of a 2\n",
            "Count of e 4\n",
            "Count of i 2\n",
            "Count of o 1\n",
            "Count of u 1\n"
          ]
        }
      ]
    },
    {
      "cell_type": "code",
      "source": [
        "# Given a string, reverse the order of characters using string slicing and\n",
        "# print the reversed string.\n",
        "\n",
        "inputString = \"Data Science Master Pro\"\n",
        "print(inputString[::-1])"
      ],
      "metadata": {
        "colab": {
          "base_uri": "https://localhost:8080/"
        },
        "id": "W0pAiE_VRiR0",
        "outputId": "e3b583d9-fce3-467d-9be6-381c6f1cec05"
      },
      "execution_count": 7,
      "outputs": [
        {
          "output_type": "stream",
          "name": "stdout",
          "text": [
            "orP retsaM ecneicS ataD\n"
          ]
        }
      ]
    },
    {
      "cell_type": "code",
      "source": [
        "# Write a program that takes a string as input and checks if it is a\n",
        "# palindrome\n",
        "\n",
        "inputString = input('Enter string : ')\n",
        "\n",
        "revereseString = inputString[::-1]\n",
        "\n",
        "if inputString == revereseString:\n",
        "    print(\"%s is Palindrome\" % inputString)\n",
        "else:\n",
        "    print(\"%s is not Palindrome\" % inputString)\n"
      ],
      "metadata": {
        "colab": {
          "base_uri": "https://localhost:8080/"
        },
        "id": "EF9nxEvQSR8t",
        "outputId": "85ee7ef6-852e-4df1-dbc6-be8641f9dfcb"
      },
      "execution_count": 11,
      "outputs": [
        {
          "output_type": "stream",
          "name": "stdout",
          "text": [
            "Enter string : radar\n",
            "radar is Palindrome\n"
          ]
        }
      ]
    },
    {
      "cell_type": "code",
      "source": [
        "# Create a program that takes a string as input and removes all the\n",
        "# spaces from it. Print the modified string without spaces.\n",
        "\n",
        "inputString = \"Data Science Masters Pro\"\n",
        "\n",
        "print(inputString.replace(\" \",\"\"))"
      ],
      "metadata": {
        "colab": {
          "base_uri": "https://localhost:8080/"
        },
        "id": "oR2jPOXqbK_-",
        "outputId": "7fed0c20-ed79-4da3-c4a1-e8c3e0777d52"
      },
      "execution_count": 15,
      "outputs": [
        {
          "output_type": "stream",
          "name": "stdout",
          "text": [
            "DataScienceMastersPro\n"
          ]
        }
      ]
    }
  ]
}